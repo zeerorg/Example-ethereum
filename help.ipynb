{
 "cells": [
  {
   "cell_type": "code",
   "execution_count": 1,
   "metadata": {},
   "outputs": [],
   "source": [
    "import eth_utils\n",
    "import web3"
   ]
  },
  {
   "cell_type": "code",
   "execution_count": 11,
   "metadata": {
    "collapsed": true
   },
   "outputs": [
    {
     "name": "stdout",
     "output_type": "stream",
     "text": [
      "Help on function coerce_args_to_bytes in module eth_utils.string:\n",
      "\n",
      "coerce_args_to_bytes(fn)\n",
      "\n"
     ]
    }
   ],
   "source": [
    "help(eth_utils.string.coerce_args_to_bytes)"
   ]
  },
  {
   "cell_type": "code",
   "execution_count": 10,
   "metadata": {
    "collapsed": true
   },
   "outputs": [
    {
     "name": "stderr",
     "output_type": "stream",
     "text": [
      "/home/rishabh/.local/share/virtualenvs/eth_pyth-ZMQ0Mj2Y/lib/python3.6/site-packages/eth_utils/string.py:23: DeprecationWarning: The `force_obj_to_bytes` function has been deprecated and will be removed in a subsequent release of the eth-utils library. UTF8 cannot encode some byte values in the 0-255 range which makes naive coersion between bytes and text representations impossible without explicitly declared encodings.\n",
      "  \"declared encodings.\".format(fn.__name__)\n",
      "/home/rishabh/.local/share/virtualenvs/eth_pyth-ZMQ0Mj2Y/lib/python3.6/site-packages/eth_utils/string.py:23: DeprecationWarning: The `force_bytes` function has been deprecated and will be removed in a subsequent release of the eth-utils library. UTF8 cannot encode some byte values in the 0-255 range which makes naive coersion between bytes and text representations impossible without explicitly declared encodings.\n",
      "  \"declared encodings.\".format(fn.__name__)\n"
     ]
    },
    {
     "data": {
      "text/plain": [
       "True"
      ]
     },
     "execution_count": 10,
     "metadata": {},
     "output_type": "execute_result"
    }
   ],
   "source": [
    "eth_utils.is_bytes(eth_utils.force_obj_to_bytes(\"hello\"))"
   ]
  },
  {
   "cell_type": "code",
   "execution_count": 17,
   "metadata": {
    "collapsed": true
   },
   "outputs": [
    {
     "name": "stdout",
     "output_type": "stream",
     "text": [
      "Help on class Contract in module web3.contract:\n",
      "\n",
      "class Contract(builtins.object)\n",
      " |  Base class for Contract proxy classes.\n",
      " |  \n",
      " |  First you need to create your Contract classes using\n",
      " |  :func:`construct_contract_factory` that takes compiled Solidity contract\n",
      " |  ABI definitions as input.  The created class object will be a subclass of\n",
      " |  this base class.\n",
      " |  \n",
      " |  After you have your Contract proxy class created you can interact with\n",
      " |  smart contracts\n",
      " |  \n",
      " |  * Create a Contract proxy object for an existing deployed smart contract by\n",
      " |    its address using :meth:`__init__`\n",
      " |  \n",
      " |  * Deploy a new smart contract using :py:meth:`Contract.deploy`\n",
      " |  \n",
      " |  Methods defined here:\n",
      " |  \n",
      " |  __init__(self, *args, **kwargs)\n",
      " |      Create a new smart contract proxy object.\n",
      " |      \n",
      " |      :param address: Contract address as 0x hex string\n",
      " |  \n",
      " |  call(self, transaction=None)\n",
      " |      Execute a contract function call using the `eth_call` interface.\n",
      " |      \n",
      " |      This method prepares a ``Caller`` object that exposes the contract\n",
      " |      functions and public variables as callable Python functions.\n",
      " |      \n",
      " |      Reading a public ``owner`` address variable example:\n",
      " |      \n",
      " |      .. code-block:: python\n",
      " |      \n",
      " |          ContractFactory = construct_contract_factory(\n",
      " |              web3=web3,\n",
      " |              abi=wallet_contract_definition[\"abi\"]\n",
      " |          )\n",
      " |      \n",
      " |          # Not a real contract address\n",
      " |          contract = contract_class(\"0x2f70d3d26829e412a602e83fe8eebf80255aeea5\")\n",
      " |      \n",
      " |          # Read \"owner\" public variable\n",
      " |          addr = contract.call().owner()\n",
      " |      \n",
      " |      :param transaction: Dictionary of transaction info for web3 interface\n",
      " |      :return: ``Caller`` object that has contract public functions\n",
      " |          and variables exposed as Python methods\n",
      " |  \n",
      " |  estimateGas(self, transaction=None)\n",
      " |      Estimate the gas for a call\n",
      " |  \n",
      " |  on(self, event_name, filter_params=None, *callbacks)\n",
      " |      Register a callback to be triggered on the appropriate events.\n",
      " |  \n",
      " |  pastEvents(self, event_name, filter_params=None, *callbacks)\n",
      " |      Register a callback to be triggered on all past events.\n",
      " |  \n",
      " |  transact(self, transaction=None)\n",
      " |      Execute a contract function call using the `eth_sendTransaction`\n",
      " |      interface.\n",
      " |      \n",
      " |      You should specify the account that pays the gas for this transaction\n",
      " |      in `transaction`. If no account is specified the coinbase account of\n",
      " |      web3 interface is used.\n",
      " |      \n",
      " |      Example:\n",
      " |      \n",
      " |      .. code-block:: python\n",
      " |      \n",
      " |          # Assume we have a Wallet contract with the following methods.\n",
      " |          # * Wallet.deposit()  # deposits to `msg.sender`\n",
      " |          # * Wallet.deposit(address to)  # deposits to the account indicated\n",
      " |          #   by the `to` parameter.\n",
      " |          # * Wallet.withdraw(address amount)\n",
      " |      \n",
      " |          >>> wallet = Wallet(address='0xdc3a9db694bcdd55ebae4a89b22ac6d12b3f0c24')\n",
      " |          # Deposit to the `web3.eth.coinbase` account.\n",
      " |          >>> wallet.transact({'value': 12345}).deposit()\n",
      " |          '0x5c504ed432cb51138bcf09aa5e8a410dd4a1e204ef84bfed1be16dfba1b22060'\n",
      " |          # Deposit to some other account using funds from `web3.eth.coinbase`.\n",
      " |          >>> wallet.transact({'value': 54321}).deposit(web3.eth.accounts[1])\n",
      " |          '0xe122ba26d25a93911e241232d3ba7c76f5a6bfe9f8038b66b198977115fb1ddf'\n",
      " |          # Withdraw 12345 wei.\n",
      " |          >>> wallet.transact().withdraw(12345)\n",
      " |      \n",
      " |      The new public transaction will be created.  Transaction receipt will\n",
      " |      be available once the transaction has been mined.\n",
      " |      \n",
      " |      :param transaction: Dictionary of transaction info for web3 interface.\n",
      " |      Variables include ``from``, ``gas``, ``value``, ``gasPrice``, ``nonce``.\n",
      " |      \n",
      " |      :return: ``Transactor`` object that has contract\n",
      " |          public functions exposed as Python methods.\n",
      " |          Calling these methods will execute a transaction against the contract.\n",
      " |  \n",
      " |  ----------------------------------------------------------------------\n",
      " |  Class methods defined here:\n",
      " |  \n",
      " |  deploy(transaction=None, args=None, kwargs=None) from builtins.type\n",
      " |      Deploys the contract on a blockchain.\n",
      " |      \n",
      " |      Example:\n",
      " |      \n",
      " |      .. code-block:: python\n",
      " |      \n",
      " |          >>> MyContract.deploy(\n",
      " |              transaction={\n",
      " |                  'from': web3.eth.accounts[1],\n",
      " |                  'value': 12345,\n",
      " |              },\n",
      " |              args=('DGD', 18),\n",
      " |          )\n",
      " |          '0x5c504ed432cb51138bcf09aa5e8a410dd4a1e204ef84bfed1be16dfba1b22060'\n",
      " |      \n",
      " |      :param transaction: Transaction parameters for the deployment\n",
      " |                          transaction as a dict\n",
      " |      \n",
      " |      :param args: The contract constructor arguments as positional arguments\n",
      " |      :param kwargs: The contract constructor arguments as keyword arguments\n",
      " |      \n",
      " |      :return: hexadecimal transaction hash of the deployment transaction\n",
      " |  \n",
      " |  encodeABI(fn_name, args=None, kwargs=None, data=None) from builtins.type\n",
      " |      Encodes the arguments using the Ethereum ABI for the contract function\n",
      " |      that matches the given name and arguments..\n",
      " |      \n",
      " |      :param data: defaults to function selector\n",
      " |  \n",
      " |  factory(web3, contract_name=None, **kwargs) from builtins.type\n",
      " |  \n",
      " |  ----------------------------------------------------------------------\n",
      " |  Data descriptors defined here:\n",
      " |  \n",
      " |  __dict__\n",
      " |      dictionary for instance variables (if defined)\n",
      " |  \n",
      " |  __weakref__\n",
      " |      list of weak references to the object (if defined)\n",
      " |  \n",
      " |  code\n",
      " |  \n",
      " |  code_runtime\n",
      " |  \n",
      " |  source\n",
      " |  \n",
      " |  ----------------------------------------------------------------------\n",
      " |  Data and other attributes defined here:\n",
      " |  \n",
      " |  abi = None\n",
      " |  \n",
      " |  address = None\n",
      " |  \n",
      " |  asm = None\n",
      " |  \n",
      " |  ast = None\n",
      " |  \n",
      " |  bytecode = None\n",
      " |  \n",
      " |  bytecode_runtime = None\n",
      " |  \n",
      " |  clone_bin = None\n",
      " |  \n",
      " |  dev_doc = None\n",
      " |  \n",
      " |  interface = None\n",
      " |  \n",
      " |  metadata = None\n",
      " |  \n",
      " |  opcodes = None\n",
      " |  \n",
      " |  src_map = None\n",
      " |  \n",
      " |  src_map_runtime = None\n",
      " |  \n",
      " |  user_doc = None\n",
      " |  \n",
      " |  web3 = None\n",
      "\n"
     ]
    }
   ],
   "source": [
    "help(web3.contract.Contract)"
   ]
  }
 ],
 "metadata": {
  "kernelspec": {
   "display_name": "Python 3",
   "language": "python",
   "name": "python3"
  },
  "language_info": {
   "codemirror_mode": {
    "name": "ipython",
    "version": 3
   },
   "file_extension": ".py",
   "mimetype": "text/x-python",
   "name": "python",
   "nbconvert_exporter": "python",
   "pygments_lexer": "ipython3",
   "version": "3.6.4"
  }
 },
 "nbformat": 4,
 "nbformat_minor": 2
}
