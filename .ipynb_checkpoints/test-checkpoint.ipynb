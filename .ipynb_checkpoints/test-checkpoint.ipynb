{
 "cells": [
  {
   "cell_type": "code",
   "execution_count": 1,
   "metadata": {},
   "outputs": [],
   "source": [
    "import warnings\n",
    "warnings.simplefilter(\"ignore\", DeprecationWarning)\n",
    "\n",
    "import json\n",
    "import web3\n",
    "\n",
    "from web3 import Web3, HTTPProvider, TestRPCProvider, utils\n",
    "from solc import compile_source\n",
    "from web3.contract import ConciseContract"
   ]
  },
  {
   "cell_type": "code",
   "execution_count": 2,
   "metadata": {},
   "outputs": [],
   "source": [
    "# Contract source code\n",
    "contract_source_code = '''\n",
    "pragma solidity ^0.4.18;\n",
    "// We have to specify what version of compiler this code will compile with\n",
    "\n",
    "contract Voting {\n",
    "  /**\n",
    "  * A map of candidate names to integer values\n",
    "  */\n",
    "  mapping (bytes32 => uint8) public votesReceived;\n",
    "  \n",
    "  /**\n",
    "        List of candidates. bytes32 array is used since ethereum doesn't support strings\n",
    "   */\n",
    "  bytes32[] public candidateList;\n",
    "\n",
    "  /* Constructor called when we deploy app to blockchain\n",
    "  we will pass an array of candidates who will be contesting in the election\n",
    "  */\n",
    "  function Voting(bytes32[] candidateNames) public {\n",
    "    candidateList = candidateNames;\n",
    "  }\n",
    "\n",
    "  // This function returns the total votes a candidate has received so far\n",
    "  function totalVotesFor(bytes32 candidate) view public returns (uint8) {\n",
    "    require(validCandidate(candidate));\n",
    "    return votesReceived[keccak256(candidate)];\n",
    "  }\n",
    "\n",
    "  // This function increments the vote count for the specified candidate. This\n",
    "  // is equivalent to casting a vote\n",
    "  function voteForCandidate(bytes32 candidate) public {\n",
    "    require(validCandidate(candidate));\n",
    "    votesReceived[keccak256(candidate)] += 1;\n",
    "  }\n",
    "\n",
    "  // checks if a candidate is valid or not\n",
    "  function validCandidate(bytes32 candidate) view public returns (bool) {\n",
    "    for (uint i = 0; i < candidateList.length; i++) {\n",
    "      if (candidateList[i] == candidate) {\n",
    "        return true;\n",
    "      }\n",
    "    }\n",
    "    return false;\n",
    "  }\n",
    "}\n",
    "'''"
   ]
  },
  {
   "cell_type": "code",
   "execution_count": 3,
   "metadata": {},
   "outputs": [],
   "source": [
    "compiled_sol = compile_source(contract_source_code)\n",
    "contract_interface = compiled_sol['<stdin>:Voting']"
   ]
  },
  {
   "cell_type": "code",
   "execution_count": 4,
   "metadata": {},
   "outputs": [
    {
     "data": {
      "text/plain": [
       "True"
      ]
     },
     "execution_count": 4,
     "metadata": {},
     "output_type": "execute_result"
    }
   ],
   "source": [
    "w3 = Web3(HTTPProvider(\"http://localhost:7545\"))\n",
    "w3.isConnected()"
   ]
  },
  {
   "cell_type": "code",
   "execution_count": 10,
   "metadata": {},
   "outputs": [
    {
     "name": "stderr",
     "output_type": "stream",
     "text": [
      "/home/zeerorg/.local/share/virtualenvs/Example-ethereum-CuTOGWnK/lib/python3.6/site-packages/ipykernel_launcher.py:9: DeprecationWarning: deploy is deprecated in favor of contract.constructor.transact\n",
      "  if __name__ == '__main__':\n"
     ]
    }
   ],
   "source": [
    "# create contract for deployment\n",
    "contract = w3.eth.contract(abi=contract_interface['abi'], bytecode=contract_interface['bin'])\n",
    "\n",
    "candidate_list_bytes = []\n",
    "for x in [\"Rama\", \"Nick\", \"John\"]:\n",
    "    candidate_list_bytes.append(utils.encoding.to_bytes(text=x))\n",
    "\n",
    "# deploy contract\n",
    "tx_hash = contract.deploy(transaction={'from': w3.eth.accounts[0], 'gas': 410000}, args=[candidate_list_bytes])\n",
    "\n",
    "# Get deployment receipt and get contract address from it\n",
    "tx_receipt = w3.eth.getTransactionReceipt(tx_hash)\n",
    "contract_address = tx_receipt['contractAddress']\n",
    "\n",
    "# get main contract instance\n",
    "contract_instance = w3.eth.contract(abi=contract_interface['abi'], address=contract_address, ContractFactoryClass=ConciseContract)"
   ]
  },
  {
   "cell_type": "code",
   "execution_count": null,
   "metadata": {},
   "outputs": [],
   "source": []
  },
  {
   "cell_type": "code",
   "execution_count": 11,
   "metadata": {},
   "outputs": [
    {
     "data": {
      "text/plain": [
       "HexBytes('0xc506f9632bccf26c3339b297a876fc826ec989d4112b565c1ff6fbf1e0b3e6e6')"
      ]
     },
     "execution_count": 11,
     "metadata": {},
     "output_type": "execute_result"
    }
   ],
   "source": [
    "contract_instance.voteForCandidate(utils.encoding.to_bytes(text=\"Rama\"), transact={'from': w3.eth.accounts[3]})"
   ]
  },
  {
   "cell_type": "code",
   "execution_count": null,
   "metadata": {},
   "outputs": [],
   "source": []
  },
  {
   "cell_type": "code",
   "execution_count": 12,
   "metadata": {},
   "outputs": [
    {
     "name": "stdout",
     "output_type": "stream",
     "text": [
      "1\n"
     ]
    }
   ],
   "source": [
    "print(contract_instance.totalVotesFor(utils.encoding.to_bytes(text=\"Rama\")))"
   ]
  },
  {
   "cell_type": "code",
   "execution_count": null,
   "metadata": {},
   "outputs": [],
   "source": []
  },
  {
   "cell_type": "code",
   "execution_count": null,
   "metadata": {},
   "outputs": [],
   "source": []
  },
  {
   "cell_type": "code",
   "execution_count": 21,
   "metadata": {
    "collapsed": true
   },
   "outputs": [
    {
     "ename": "AttributeError",
     "evalue": "'ConciseContract' object has no attribute 'greet'",
     "output_type": "error",
     "traceback": [
      "\u001b[0;31m---------------------------------------------------------------------------\u001b[0m",
      "\u001b[0;31mAttributeError\u001b[0m                            Traceback (most recent call last)",
      "\u001b[0;32m<ipython-input-21-2e6b33879b3d>\u001b[0m in \u001b[0;36m<module>\u001b[0;34m()\u001b[0m\n\u001b[0;32m----> 1\u001b[0;31m \u001b[0mprint\u001b[0m\u001b[0;34m(\u001b[0m\u001b[0;34m'Contract value: {}'\u001b[0m\u001b[0;34m.\u001b[0m\u001b[0mformat\u001b[0m\u001b[0;34m(\u001b[0m\u001b[0mcontract_instance\u001b[0m\u001b[0;34m.\u001b[0m\u001b[0mgreet\u001b[0m\u001b[0;34m(\u001b[0m\u001b[0;34m)\u001b[0m\u001b[0;34m)\u001b[0m\u001b[0;34m)\u001b[0m\u001b[0;34m\u001b[0m\u001b[0m\n\u001b[0m\u001b[1;32m      2\u001b[0m \u001b[0mcontract_instance\u001b[0m\u001b[0;34m.\u001b[0m\u001b[0msetGreeting\u001b[0m\u001b[0;34m(\u001b[0m\u001b[0;34m'Nihao'\u001b[0m\u001b[0;34m,\u001b[0m \u001b[0mtransact\u001b[0m\u001b[0;34m=\u001b[0m\u001b[0;34m{\u001b[0m\u001b[0;34m'from'\u001b[0m\u001b[0;34m:\u001b[0m \u001b[0mw3\u001b[0m\u001b[0;34m.\u001b[0m\u001b[0meth\u001b[0m\u001b[0;34m.\u001b[0m\u001b[0maccounts\u001b[0m\u001b[0;34m[\u001b[0m\u001b[0;36m0\u001b[0m\u001b[0;34m]\u001b[0m\u001b[0;34m}\u001b[0m\u001b[0;34m)\u001b[0m\u001b[0;34m\u001b[0m\u001b[0m\n\u001b[1;32m      3\u001b[0m \u001b[0mprint\u001b[0m\u001b[0;34m(\u001b[0m\u001b[0;34m'Setting value to: Nihao'\u001b[0m\u001b[0;34m)\u001b[0m\u001b[0;34m\u001b[0m\u001b[0m\n\u001b[1;32m      4\u001b[0m \u001b[0mprint\u001b[0m\u001b[0;34m(\u001b[0m\u001b[0;34m'Contract value: {}'\u001b[0m\u001b[0;34m.\u001b[0m\u001b[0mformat\u001b[0m\u001b[0;34m(\u001b[0m\u001b[0mcontract_instance\u001b[0m\u001b[0;34m.\u001b[0m\u001b[0mgreet\u001b[0m\u001b[0;34m(\u001b[0m\u001b[0;34m)\u001b[0m\u001b[0;34m)\u001b[0m\u001b[0;34m)\u001b[0m\u001b[0;34m\u001b[0m\u001b[0m\n\u001b[1;32m      5\u001b[0m \u001b[0;34m(\u001b[0m\u001b[0;34m\"\"\u001b[0m\u001b[0;34m)\u001b[0m\u001b[0;34m\u001b[0m\u001b[0m\n",
      "\u001b[0;31mAttributeError\u001b[0m: 'ConciseContract' object has no attribute 'greet'"
     ]
    }
   ],
   "source": [
    "print('Contract value: {}'.format(contract_instance.greet()))\n",
    "contract_instance.setGreeting('Nihao', transact={'from': w3.eth.accounts[0]})\n",
    "print('Setting value to: Nihao')\n",
    "print('Contract value: {}'.format(contract_instance.greet()))\n",
    ";"
   ]
  },
  {
   "cell_type": "code",
   "execution_count": null,
   "metadata": {},
   "outputs": [],
   "source": [
    "help(w3)"
   ]
  },
  {
   "cell_type": "code",
   "execution_count": null,
   "metadata": {},
   "outputs": [],
   "source": [
    "print(tx_receipt)"
   ]
  },
  {
   "cell_type": "code",
   "execution_count": null,
   "metadata": {},
   "outputs": [],
   "source": []
  },
  {
   "cell_type": "code",
   "execution_count": null,
   "metadata": {},
   "outputs": [],
   "source": [
    "help(contract_instance)"
   ]
  },
  {
   "cell_type": "code",
   "execution_count": null,
   "metadata": {},
   "outputs": [],
   "source": [
    "print(contract_instance.estimateGas())"
   ]
  },
  {
   "cell_type": "code",
   "execution_count": null,
   "metadata": {},
   "outputs": [],
   "source": []
  },
  {
   "cell_type": "code",
   "execution_count": 11,
   "metadata": {},
   "outputs": [
    {
     "name": "stdout",
     "output_type": "stream",
     "text": [
      "Help on module web3.eth in web3:\n",
      "\n",
      "NAME\n",
      "    web3.eth\n",
      "\n",
      "CLASSES\n",
      "    web3.module.Module(builtins.object)\n",
      "        Eth\n",
      "    \n",
      "    class Eth(web3.module.Module)\n",
      "     |  Method resolution order:\n",
      "     |      Eth\n",
      "     |      web3.module.Module\n",
      "     |      builtins.object\n",
      "     |  \n",
      "     |  Methods defined here:\n",
      "     |  \n",
      "     |  call(self, transaction, block_identifier=None)\n",
      "     |  \n",
      "     |  contract(self, address=None, **kwargs)\n",
      "     |  \n",
      "     |  enable_unaudited_features(self)\n",
      "     |  \n",
      "     |  estimateGas(self, transaction)\n",
      "     |  \n",
      "     |  filter(self, filter_params=None, filter_id=None)\n",
      "     |  \n",
      "     |  generateGasPrice(self, transaction_params=None)\n",
      "     |  \n",
      "     |  getBalance(self, account, block_identifier=None)\n",
      "     |  \n",
      "     |  getBlock(self, block_identifier, full_transactions=False)\n",
      "     |      `eth_getBlockByHash`\n",
      "     |      `eth_getBlockByNumber`\n",
      "     |  \n",
      "     |  getBlockTransactionCount(self, block_identifier)\n",
      "     |      `eth_getBlockTransactionCountByHash`\n",
      "     |      `eth_getBlockTransactionCountByNumber`\n",
      "     |  \n",
      "     |  getCode(self, account, block_identifier=None)\n",
      "     |  \n",
      "     |  getCompilers(self)\n",
      "     |  \n",
      "     |  getFilterChanges(self, filter_id)\n",
      "     |  \n",
      "     |  getFilterLogs(self, filter_id)\n",
      "     |  \n",
      "     |  getLogs(self, filter_params)\n",
      "     |  \n",
      "     |  getStorageAt(self, account, position, block_identifier=None)\n",
      "     |  \n",
      "     |  getTransaction(self, transaction_hash)\n",
      "     |  \n",
      "     |  getTransactionCount(self, account, block_identifier=None)\n",
      "     |  \n",
      "     |  getTransactionFromBlock(self, block_identifier, transaction_index)\n",
      "     |      `eth_getTransactionByBlockHashAndIndex`\n",
      "     |      `eth_getTransactionByBlockNumberAndIndex`\n",
      "     |  \n",
      "     |  getTransactionReceipt(self, transaction_hash)\n",
      "     |  \n",
      "     |  getUncleCount(self, block_identifier)\n",
      "     |      `eth_getUncleCountByBlockHash`\n",
      "     |      `eth_getUncleCountByBlockNumber`\n",
      "     |  \n",
      "     |  getWork(self)\n",
      "     |  \n",
      "     |  icapNamereg(self)\n",
      "     |  \n",
      "     |  modifyTransaction(self, transaction_hash, **transaction_params)\n",
      "     |  \n",
      "     |  namereg(self)\n",
      "     |  \n",
      "     |  replaceTransaction(self, transaction_hash, new_transaction)\n",
      "     |  \n",
      "     |  sendRawTransaction(self, raw_transaction)\n",
      "     |  \n",
      "     |  sendTransaction(self, transaction)\n",
      "     |  \n",
      "     |  setContractFactory(self, contractFactory)\n",
      "     |  \n",
      "     |  setGasPriceStrategy(self, gas_price_strategy)\n",
      "     |  \n",
      "     |  sign(self, account, data=None, hexstr=None, text=None)\n",
      "     |  \n",
      "     |  uninstallFilter(self, filter_id)\n",
      "     |  \n",
      "     |  ----------------------------------------------------------------------\n",
      "     |  Data descriptors defined here:\n",
      "     |  \n",
      "     |  account\n",
      "     |  \n",
      "     |  accounts\n",
      "     |  \n",
      "     |  blockNumber\n",
      "     |  \n",
      "     |  coinbase\n",
      "     |  \n",
      "     |  gasPrice\n",
      "     |  \n",
      "     |  hashrate\n",
      "     |  \n",
      "     |  mining\n",
      "     |  \n",
      "     |  protocolVersion\n",
      "     |  \n",
      "     |  syncing\n",
      "     |  \n",
      "     |  ----------------------------------------------------------------------\n",
      "     |  Data and other attributes defined here:\n",
      "     |  \n",
      "     |  defaultAccount = <web3.utils.empty.Empty object>\n",
      "     |  \n",
      "     |  defaultBlock = 'latest'\n",
      "     |  \n",
      "     |  defaultContractFactory = <class 'web3.contract.Contract'>\n",
      "     |      Base class for Contract proxy classes.\n",
      "     |      \n",
      "     |      First you need to create your Contract classes using\n",
      "     |      :meth:`web3.eth.Eth.contract` that takes compiled Solidity contract\n",
      "     |      ABI definitions as input.  The created class object will be a subclass of\n",
      "     |      this base class.\n",
      "     |      \n",
      "     |      After you have your Contract proxy class created you can interact with\n",
      "     |      smart contracts\n",
      "     |      \n",
      "     |      * Create a Contract proxy object for an existing deployed smart contract by\n",
      "     |        its address using :meth:`__init__`\n",
      "     |      \n",
      "     |      * Deploy a new smart contract using :py:meth:`Contract.deploy`\n",
      "     |  \n",
      "     |  gasPriceStrategy = None\n",
      "     |  \n",
      "     |  iban = <class 'web3.iban.Iban'>\n",
      "     |  \n",
      "     |  \n",
      "     |  ----------------------------------------------------------------------\n",
      "     |  Methods inherited from web3.module.Module:\n",
      "     |  \n",
      "     |  __init__(self, web3)\n",
      "     |      Initialize self.  See help(type(self)) for accurate signature.\n",
      "     |  \n",
      "     |  ----------------------------------------------------------------------\n",
      "     |  Class methods inherited from web3.module.Module:\n",
      "     |  \n",
      "     |  attach(target, module_name=None) from builtins.type\n",
      "     |  \n",
      "     |  ----------------------------------------------------------------------\n",
      "     |  Data descriptors inherited from web3.module.Module:\n",
      "     |  \n",
      "     |  __dict__\n",
      "     |      dictionary for instance variables (if defined)\n",
      "     |  \n",
      "     |  __weakref__\n",
      "     |      list of weak references to the object (if defined)\n",
      "     |  \n",
      "     |  ----------------------------------------------------------------------\n",
      "     |  Data and other attributes inherited from web3.module.Module:\n",
      "     |  \n",
      "     |  web3 = None\n",
      "\n",
      "DATA\n",
      "    empty = <web3.utils.empty.Empty object>\n",
      "\n",
      "FILE\n",
      "    /home/zeerorg/.local/share/virtualenvs/Example-ethereum-CuTOGWnK/lib/python3.6/site-packages/web3/eth.py\n",
      "\n",
      "\n"
     ]
    }
   ],
   "source": [
    "help(web3.eth)"
   ]
  }
 ],
 "metadata": {
  "kernelspec": {
   "display_name": "Python 3",
   "language": "python",
   "name": "python3"
  },
  "language_info": {
   "codemirror_mode": {
    "name": "ipython",
    "version": 3
   },
   "file_extension": ".py",
   "mimetype": "text/x-python",
   "name": "python",
   "nbconvert_exporter": "python",
   "pygments_lexer": "ipython3",
   "version": "3.6.4"
  }
 },
 "nbformat": 4,
 "nbformat_minor": 2
}
